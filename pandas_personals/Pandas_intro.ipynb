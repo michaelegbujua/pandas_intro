{
 "cells": [
  {
   "cell_type": "code",
   "execution_count": 1,
   "id": "408d39b3",
   "metadata": {},
   "outputs": [],
   "source": [
    "import pandas as pd"
   ]
  },
  {
   "cell_type": "code",
   "execution_count": 4,
   "id": "75a7f23a",
   "metadata": {},
   "outputs": [],
   "source": [
    "new_s = pd.Series([10, 20, 30, 40])  #creating pandas series"
   ]
  },
  {
   "cell_type": "code",
   "execution_count": 3,
   "id": "7e373326",
   "metadata": {},
   "outputs": [
    {
     "data": {
      "text/plain": [
       "0    10\n",
       "1    20\n",
       "2    30\n",
       "3    40\n",
       "dtype: int64"
      ]
     },
     "execution_count": 3,
     "metadata": {},
     "output_type": "execute_result"
    }
   ],
   "source": [
    "new_s"
   ]
  },
  {
   "cell_type": "code",
   "execution_count": 6,
   "id": "cd2a8f2b",
   "metadata": {},
   "outputs": [],
   "source": [
    "put_index = pd.Series([10, 20, 30, 40], index=['a', 'b', 'c', 'd'])"
   ]
  },
  {
   "cell_type": "code",
   "execution_count": 7,
   "id": "0c941f45",
   "metadata": {},
   "outputs": [
    {
     "data": {
      "text/plain": [
       "a    10\n",
       "b    20\n",
       "c    30\n",
       "d    40\n",
       "dtype: int64"
      ]
     },
     "execution_count": 7,
     "metadata": {},
     "output_type": "execute_result"
    }
   ],
   "source": [
    "put_index"
   ]
  },
  {
   "cell_type": "markdown",
   "id": "4dafcb47",
   "metadata": {},
   "source": [
    "## creating dataframes with Pandas"
   ]
  },
  {
   "cell_type": "code",
   "execution_count": 20,
   "id": "48c3c35e",
   "metadata": {},
   "outputs": [],
   "source": [
    "colors = ['red', 'orange', 'yellow', 'white']\n",
    "degrees = [30, 40, 50, 60]\n",
    "numbers = [11, 12, 13, 14]\n",
    "#creating pandas datafram from the 3 lists above\n",
    "new_df = pd.DataFrame({\"colors\": colors, \"degrees\": degrees, \"numbers\": numbers},\n",
    "            columns = [\"colors\", \"degrees\", \"numbers\"],\n",
    "                     index = range(1,5)         )"
   ]
  },
  {
   "cell_type": "code",
   "execution_count": 21,
   "id": "cd39d1d7",
   "metadata": {},
   "outputs": [
    {
     "data": {
      "text/html": [
       "<div>\n",
       "<style scoped>\n",
       "    .dataframe tbody tr th:only-of-type {\n",
       "        vertical-align: middle;\n",
       "    }\n",
       "\n",
       "    .dataframe tbody tr th {\n",
       "        vertical-align: top;\n",
       "    }\n",
       "\n",
       "    .dataframe thead th {\n",
       "        text-align: right;\n",
       "    }\n",
       "</style>\n",
       "<table border=\"1\" class=\"dataframe\">\n",
       "  <thead>\n",
       "    <tr style=\"text-align: right;\">\n",
       "      <th></th>\n",
       "      <th>colors</th>\n",
       "      <th>degrees</th>\n",
       "      <th>numbers</th>\n",
       "    </tr>\n",
       "  </thead>\n",
       "  <tbody>\n",
       "    <tr>\n",
       "      <th>1</th>\n",
       "      <td>red</td>\n",
       "      <td>30</td>\n",
       "      <td>11</td>\n",
       "    </tr>\n",
       "    <tr>\n",
       "      <th>2</th>\n",
       "      <td>orange</td>\n",
       "      <td>40</td>\n",
       "      <td>12</td>\n",
       "    </tr>\n",
       "    <tr>\n",
       "      <th>3</th>\n",
       "      <td>yellow</td>\n",
       "      <td>50</td>\n",
       "      <td>13</td>\n",
       "    </tr>\n",
       "    <tr>\n",
       "      <th>4</th>\n",
       "      <td>white</td>\n",
       "      <td>60</td>\n",
       "      <td>14</td>\n",
       "    </tr>\n",
       "  </tbody>\n",
       "</table>\n",
       "</div>"
      ],
      "text/plain": [
       "   colors  degrees  numbers\n",
       "1     red       30       11\n",
       "2  orange       40       12\n",
       "3  yellow       50       13\n",
       "4   white       60       14"
      ]
     },
     "execution_count": 21,
     "metadata": {},
     "output_type": "execute_result"
    }
   ],
   "source": [
    "new_df"
   ]
  },
  {
   "cell_type": "code",
   "execution_count": 48,
   "id": "41edec85",
   "metadata": {},
   "outputs": [],
   "source": [
    "#reading  csv file from outter source but within your local machine\n",
    "path = \"C:/Users/HP/Desktop/pyth_exercise/python_machine_learning/pandas_personals/Sample10.csv\"\n",
    "\n",
    "df_sample_data = pd.read_csv(path, low_memory=False)"
   ]
  },
  {
   "cell_type": "code",
   "execution_count": 25,
   "id": "bbb06083",
   "metadata": {},
   "outputs": [
    {
     "data": {
      "text/html": [
       "<div>\n",
       "<style scoped>\n",
       "    .dataframe tbody tr th:only-of-type {\n",
       "        vertical-align: middle;\n",
       "    }\n",
       "\n",
       "    .dataframe tbody tr th {\n",
       "        vertical-align: top;\n",
       "    }\n",
       "\n",
       "    .dataframe thead th {\n",
       "        text-align: right;\n",
       "    }\n",
       "</style>\n",
       "<table border=\"1\" class=\"dataframe\">\n",
       "  <thead>\n",
       "    <tr style=\"text-align: right;\">\n",
       "      <th></th>\n",
       "      <th>No</th>\n",
       "      <th>Cars</th>\n",
       "      <th>numbers</th>\n",
       "      <th>year</th>\n",
       "      <th>price</th>\n",
       "    </tr>\n",
       "  </thead>\n",
       "  <tbody>\n",
       "    <tr>\n",
       "      <th>0</th>\n",
       "      <td>1</td>\n",
       "      <td>Car1</td>\n",
       "      <td>123</td>\n",
       "      <td>2005</td>\n",
       "      <td>5000</td>\n",
       "    </tr>\n",
       "    <tr>\n",
       "      <th>1</th>\n",
       "      <td>2</td>\n",
       "      <td>Car2</td>\n",
       "      <td>456</td>\n",
       "      <td>2006</td>\n",
       "      <td>6000</td>\n",
       "    </tr>\n",
       "    <tr>\n",
       "      <th>2</th>\n",
       "      <td>3</td>\n",
       "      <td>Car3</td>\n",
       "      <td>789</td>\n",
       "      <td>2007</td>\n",
       "      <td>7000</td>\n",
       "    </tr>\n",
       "    <tr>\n",
       "      <th>3</th>\n",
       "      <td>4</td>\n",
       "      <td>Car4</td>\n",
       "      <td>1011</td>\n",
       "      <td>2008</td>\n",
       "      <td>8000</td>\n",
       "    </tr>\n",
       "    <tr>\n",
       "      <th>4</th>\n",
       "      <td>5</td>\n",
       "      <td>Car5</td>\n",
       "      <td>1213</td>\n",
       "      <td>2009</td>\n",
       "      <td>9000</td>\n",
       "    </tr>\n",
       "    <tr>\n",
       "      <th>5</th>\n",
       "      <td>6</td>\n",
       "      <td>Car6</td>\n",
       "      <td>1415</td>\n",
       "      <td>2010</td>\n",
       "      <td>10000</td>\n",
       "    </tr>\n",
       "    <tr>\n",
       "      <th>6</th>\n",
       "      <td>7</td>\n",
       "      <td>Car7</td>\n",
       "      <td>1617</td>\n",
       "      <td>2011</td>\n",
       "      <td>11000</td>\n",
       "    </tr>\n",
       "    <tr>\n",
       "      <th>7</th>\n",
       "      <td>8</td>\n",
       "      <td>Car8</td>\n",
       "      <td>1819</td>\n",
       "      <td>2012</td>\n",
       "      <td>12000</td>\n",
       "    </tr>\n",
       "    <tr>\n",
       "      <th>8</th>\n",
       "      <td>9</td>\n",
       "      <td>Car9</td>\n",
       "      <td>2011</td>\n",
       "      <td>2013</td>\n",
       "      <td>13000</td>\n",
       "    </tr>\n",
       "    <tr>\n",
       "      <th>9</th>\n",
       "      <td>10</td>\n",
       "      <td>Car10</td>\n",
       "      <td>2356</td>\n",
       "      <td>2014</td>\n",
       "      <td>14000</td>\n",
       "    </tr>\n",
       "  </tbody>\n",
       "</table>\n",
       "</div>"
      ],
      "text/plain": [
       "   No   Cars  numbers  year  price\n",
       "0   1   Car1      123  2005   5000\n",
       "1   2   Car2      456  2006   6000\n",
       "2   3   Car3      789  2007   7000\n",
       "3   4   Car4     1011  2008   8000\n",
       "4   5   Car5     1213  2009   9000\n",
       "5   6   Car6     1415  2010  10000\n",
       "6   7   Car7     1617  2011  11000\n",
       "7   8   Car8     1819  2012  12000\n",
       "8   9   Car9     2011  2013  13000\n",
       "9  10  Car10     2356  2014  14000"
      ]
     },
     "execution_count": 25,
     "metadata": {},
     "output_type": "execute_result"
    }
   ],
   "source": [
    "df_sample_data "
   ]
  },
  {
   "cell_type": "code",
   "execution_count": 27,
   "id": "8a5e358c",
   "metadata": {},
   "outputs": [
    {
     "data": {
      "text/html": [
       "<div>\n",
       "<style scoped>\n",
       "    .dataframe tbody tr th:only-of-type {\n",
       "        vertical-align: middle;\n",
       "    }\n",
       "\n",
       "    .dataframe tbody tr th {\n",
       "        vertical-align: top;\n",
       "    }\n",
       "\n",
       "    .dataframe thead th {\n",
       "        text-align: right;\n",
       "    }\n",
       "</style>\n",
       "<table border=\"1\" class=\"dataframe\">\n",
       "  <thead>\n",
       "    <tr style=\"text-align: right;\">\n",
       "      <th></th>\n",
       "      <th>No</th>\n",
       "      <th>Cars</th>\n",
       "      <th>numbers</th>\n",
       "      <th>year</th>\n",
       "      <th>price</th>\n",
       "    </tr>\n",
       "  </thead>\n",
       "  <tbody>\n",
       "    <tr>\n",
       "      <th>0</th>\n",
       "      <td>1</td>\n",
       "      <td>Car1</td>\n",
       "      <td>123</td>\n",
       "      <td>2005</td>\n",
       "      <td>5000</td>\n",
       "    </tr>\n",
       "    <tr>\n",
       "      <th>1</th>\n",
       "      <td>2</td>\n",
       "      <td>Car2</td>\n",
       "      <td>456</td>\n",
       "      <td>2006</td>\n",
       "      <td>6000</td>\n",
       "    </tr>\n",
       "    <tr>\n",
       "      <th>2</th>\n",
       "      <td>3</td>\n",
       "      <td>Car3</td>\n",
       "      <td>789</td>\n",
       "      <td>2007</td>\n",
       "      <td>7000</td>\n",
       "    </tr>\n",
       "    <tr>\n",
       "      <th>3</th>\n",
       "      <td>4</td>\n",
       "      <td>Car4</td>\n",
       "      <td>1011</td>\n",
       "      <td>2008</td>\n",
       "      <td>8000</td>\n",
       "    </tr>\n",
       "    <tr>\n",
       "      <th>4</th>\n",
       "      <td>5</td>\n",
       "      <td>Car5</td>\n",
       "      <td>1213</td>\n",
       "      <td>2009</td>\n",
       "      <td>9000</td>\n",
       "    </tr>\n",
       "    <tr>\n",
       "      <th>5</th>\n",
       "      <td>6</td>\n",
       "      <td>Car6</td>\n",
       "      <td>1415</td>\n",
       "      <td>2010</td>\n",
       "      <td>10000</td>\n",
       "    </tr>\n",
       "  </tbody>\n",
       "</table>\n",
       "</div>"
      ],
      "text/plain": [
       "   No  Cars  numbers  year  price\n",
       "0   1  Car1      123  2005   5000\n",
       "1   2  Car2      456  2006   6000\n",
       "2   3  Car3      789  2007   7000\n",
       "3   4  Car4     1011  2008   8000\n",
       "4   5  Car5     1213  2009   9000\n",
       "5   6  Car6     1415  2010  10000"
      ]
     },
     "execution_count": 27,
     "metadata": {},
     "output_type": "execute_result"
    }
   ],
   "source": [
    "df_sample_data.head(6) #obtaining the first 6 rows"
   ]
  },
  {
   "cell_type": "code",
   "execution_count": 45,
   "id": "7875ec22",
   "metadata": {},
   "outputs": [
    {
     "name": "stdout",
     "output_type": "stream",
     "text": [
      "<class 'pandas.core.frame.DataFrame'>\n",
      "RangeIndex: 10 entries, 0 to 9\n",
      "Data columns (total 5 columns):\n",
      " #   Column   Non-Null Count  Dtype \n",
      "---  ------   --------------  ----- \n",
      " 0   No       10 non-null     int64 \n",
      " 1   Cars     10 non-null     object\n",
      " 2   numbers  10 non-null     int64 \n",
      " 3   year     10 non-null     int64 \n",
      " 4   price    10 non-null     int64 \n",
      "dtypes: int64(4), object(1)\n",
      "memory usage: 528.0+ bytes\n"
     ]
    }
   ],
   "source": [
    "df_sample_data.info() #to ascertain dthe datatypes of the infomations"
   ]
  },
  {
   "cell_type": "code",
   "execution_count": 42,
   "id": "24b9f7f5",
   "metadata": {},
   "outputs": [
    {
     "data": {
      "text/plain": [
       "No         0\n",
       "Cars       0\n",
       "numbers    0\n",
       "year       0\n",
       "price      0\n",
       "dtype: int64"
      ]
     },
     "execution_count": 42,
     "metadata": {},
     "output_type": "execute_result"
    }
   ],
   "source": [
    "df_sample_data.isna().sum() #to show that there are no null values"
   ]
  },
  {
   "cell_type": "code",
   "execution_count": 30,
   "id": "ddce5b11",
   "metadata": {},
   "outputs": [
    {
     "data": {
      "text/html": [
       "<div>\n",
       "<style scoped>\n",
       "    .dataframe tbody tr th:only-of-type {\n",
       "        vertical-align: middle;\n",
       "    }\n",
       "\n",
       "    .dataframe tbody tr th {\n",
       "        vertical-align: top;\n",
       "    }\n",
       "\n",
       "    .dataframe thead th {\n",
       "        text-align: right;\n",
       "    }\n",
       "</style>\n",
       "<table border=\"1\" class=\"dataframe\">\n",
       "  <thead>\n",
       "    <tr style=\"text-align: right;\">\n",
       "      <th></th>\n",
       "      <th>No</th>\n",
       "      <th>numbers</th>\n",
       "      <th>year</th>\n",
       "      <th>price</th>\n",
       "    </tr>\n",
       "  </thead>\n",
       "  <tbody>\n",
       "    <tr>\n",
       "      <th>count</th>\n",
       "      <td>10.00000</td>\n",
       "      <td>10.000000</td>\n",
       "      <td>10.00000</td>\n",
       "      <td>10.000000</td>\n",
       "    </tr>\n",
       "    <tr>\n",
       "      <th>mean</th>\n",
       "      <td>5.50000</td>\n",
       "      <td>1281.000000</td>\n",
       "      <td>2009.50000</td>\n",
       "      <td>9500.000000</td>\n",
       "    </tr>\n",
       "    <tr>\n",
       "      <th>std</th>\n",
       "      <td>3.02765</td>\n",
       "      <td>703.167279</td>\n",
       "      <td>3.02765</td>\n",
       "      <td>3027.650354</td>\n",
       "    </tr>\n",
       "    <tr>\n",
       "      <th>min</th>\n",
       "      <td>1.00000</td>\n",
       "      <td>123.000000</td>\n",
       "      <td>2005.00000</td>\n",
       "      <td>5000.000000</td>\n",
       "    </tr>\n",
       "    <tr>\n",
       "      <th>25%</th>\n",
       "      <td>3.25000</td>\n",
       "      <td>844.500000</td>\n",
       "      <td>2007.25000</td>\n",
       "      <td>7250.000000</td>\n",
       "    </tr>\n",
       "    <tr>\n",
       "      <th>50%</th>\n",
       "      <td>5.50000</td>\n",
       "      <td>1314.000000</td>\n",
       "      <td>2009.50000</td>\n",
       "      <td>9500.000000</td>\n",
       "    </tr>\n",
       "    <tr>\n",
       "      <th>75%</th>\n",
       "      <td>7.75000</td>\n",
       "      <td>1768.500000</td>\n",
       "      <td>2011.75000</td>\n",
       "      <td>11750.000000</td>\n",
       "    </tr>\n",
       "    <tr>\n",
       "      <th>max</th>\n",
       "      <td>10.00000</td>\n",
       "      <td>2356.000000</td>\n",
       "      <td>2014.00000</td>\n",
       "      <td>14000.000000</td>\n",
       "    </tr>\n",
       "  </tbody>\n",
       "</table>\n",
       "</div>"
      ],
      "text/plain": [
       "             No      numbers        year         price\n",
       "count  10.00000    10.000000    10.00000     10.000000\n",
       "mean    5.50000  1281.000000  2009.50000   9500.000000\n",
       "std     3.02765   703.167279     3.02765   3027.650354\n",
       "min     1.00000   123.000000  2005.00000   5000.000000\n",
       "25%     3.25000   844.500000  2007.25000   7250.000000\n",
       "50%     5.50000  1314.000000  2009.50000   9500.000000\n",
       "75%     7.75000  1768.500000  2011.75000  11750.000000\n",
       "max    10.00000  2356.000000  2014.00000  14000.000000"
      ]
     },
     "execution_count": 30,
     "metadata": {},
     "output_type": "execute_result"
    }
   ],
   "source": [
    "df_sample_data.describe() #the summary of aggregate functions"
   ]
  },
  {
   "cell_type": "code",
   "execution_count": 44,
   "id": "d7670846",
   "metadata": {},
   "outputs": [
    {
     "data": {
      "text/plain": [
       "(10, 5)"
      ]
     },
     "execution_count": 44,
     "metadata": {},
     "output_type": "execute_result"
    }
   ],
   "source": [
    "df_sample_data.shape   #to know the Dimension of the data"
   ]
  },
  {
   "cell_type": "code",
   "execution_count": null,
   "id": "a4c62d39",
   "metadata": {},
   "outputs": [],
   "source": []
  },
  {
   "cell_type": "markdown",
   "id": "ff279e0e",
   "metadata": {},
   "source": [
    "reading external file that are not from your local machine but from the internet"
   ]
  },
  {
   "cell_type": "code",
   "execution_count": 31,
   "id": "8c662d17",
   "metadata": {},
   "outputs": [],
   "source": [
    "new_url = 'https://en.wikipedia.org/wiki/Academy_Awards'"
   ]
  },
  {
   "cell_type": "code",
   "execution_count": 36,
   "id": "66038eca",
   "metadata": {},
   "outputs": [],
   "source": [
    "new_html = pd.read_html(new_url, header=0, index_col=0)[3]"
   ]
  },
  {
   "cell_type": "code",
   "execution_count": 39,
   "id": "395f4f94",
   "metadata": {},
   "outputs": [
    {
     "data": {
      "text/html": [
       "<div>\n",
       "<style scoped>\n",
       "    .dataframe tbody tr th:only-of-type {\n",
       "        vertical-align: middle;\n",
       "    }\n",
       "\n",
       "    .dataframe tbody tr th {\n",
       "        vertical-align: top;\n",
       "    }\n",
       "\n",
       "    .dataframe thead th {\n",
       "        text-align: right;\n",
       "    }\n",
       "</style>\n",
       "<table border=\"1\" class=\"dataframe\">\n",
       "  <thead>\n",
       "    <tr style=\"text-align: right;\">\n",
       "      <th></th>\n",
       "      <th>Unnamed: 1</th>\n",
       "      <th>Unnamed: 2</th>\n",
       "    </tr>\n",
       "  </thead>\n",
       "  <tbody>\n",
       "    <tr>\n",
       "      <th>Award</th>\n",
       "      <td>Best Actor</td>\n",
       "      <td>Best Actress</td>\n",
       "    </tr>\n",
       "    <tr>\n",
       "      <th>Winner</th>\n",
       "      <td>Will Smith(King Richard)</td>\n",
       "      <td>Jessica Chastain(The Eyes of Tammy Faye)</td>\n",
       "    </tr>\n",
       "    <tr>\n",
       "      <th>NaN</th>\n",
       "      <td>NaN</td>\n",
       "      <td>NaN</td>\n",
       "    </tr>\n",
       "    <tr>\n",
       "      <th>Award</th>\n",
       "      <td>Best Supporting Actor</td>\n",
       "      <td>Best Supporting Actress</td>\n",
       "    </tr>\n",
       "    <tr>\n",
       "      <th>Winner</th>\n",
       "      <td>Troy Kotsur(CODA)</td>\n",
       "      <td>Ariana DeBose(West Side Story)</td>\n",
       "    </tr>\n",
       "  </tbody>\n",
       "</table>\n",
       "</div>"
      ],
      "text/plain": [
       "                      Unnamed: 1                                Unnamed: 2\n",
       "Award                 Best Actor                              Best Actress\n",
       "Winner  Will Smith(King Richard)  Jessica Chastain(The Eyes of Tammy Faye)\n",
       "NaN                          NaN                                       NaN\n",
       "Award      Best Supporting Actor                   Best Supporting Actress\n",
       "Winner         Troy Kotsur(CODA)            Ariana DeBose(West Side Story)"
      ]
     },
     "execution_count": 39,
     "metadata": {},
     "output_type": "execute_result"
    }
   ],
   "source": [
    "new_html.head(5)"
   ]
  },
  {
   "cell_type": "markdown",
   "id": "653acaf6",
   "metadata": {},
   "source": [
    "##   reading excel sheet into pandas"
   ]
  },
  {
   "cell_type": "code",
   "execution_count": 54,
   "id": "70113b05",
   "metadata": {},
   "outputs": [
    {
     "name": "stdout",
     "output_type": "stream",
     "text": [
      "         Day    Language  hour\n",
      "0     Monday      Python     5\n",
      "1    Tuesday        Java     7\n",
      "2  Wednesday  Javascript     5\n",
      "3   Thursday           R     6\n",
      "4     Friday          Go     4\n",
      "5   Saturday        Ruby     4\n",
      "6     Sunday           C     6\n"
     ]
    }
   ],
   "source": [
    "import pandas as pd\n",
    "\n",
    "#locate the excel file and save with a variable name\n",
    "path_1 = \"C:/Users/HP/Desktop/pyth_exercise/python_machine_learning/pandas_personals/demo.xlsx\"\n",
    "new_df = pd.read_excel(path_1, sheet_name = 0) #if you are working with a xlxsfile with multiple worksheet, you ahve to specify sheet_name\n",
    "\n",
    "print(new_df)"
   ]
  },
  {
   "cell_type": "markdown",
   "id": "fc902399",
   "metadata": {},
   "source": [
    "## reading JSON Files into Pandas"
   ]
  },
  {
   "cell_type": "code",
   "execution_count": null,
   "id": "507a73ae",
   "metadata": {},
   "outputs": [],
   "source": []
  },
  {
   "cell_type": "code",
   "execution_count": null,
   "id": "3cdc0a1a",
   "metadata": {},
   "outputs": [],
   "source": []
  }
 ],
 "metadata": {
  "kernelspec": {
   "display_name": "Python 3",
   "language": "python",
   "name": "python3"
  },
  "language_info": {
   "codemirror_mode": {
    "name": "ipython",
    "version": 3
   },
   "file_extension": ".py",
   "mimetype": "text/x-python",
   "name": "python",
   "nbconvert_exporter": "python",
   "pygments_lexer": "ipython3",
   "version": "3.8.8"
  }
 },
 "nbformat": 4,
 "nbformat_minor": 5
}
